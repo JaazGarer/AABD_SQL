{
 "cells": [
  {
   "cell_type": "markdown",
   "metadata": {},
   "source": [
    "<img src=\"logo.png\">"
   ]
  },
  {
   "cell_type": "markdown",
   "metadata": {},
   "source": [
    "# C03.3 Campos utilizados en relaciones\n",
    "\n",
    "Un campo de coincidencia puede ser un campo o una combinación de campos que identifican un registro de una tabla. Por ejemplo, un campo de coincidencia puede contener fechas que, comparadas con los criterios de la relación, determinan si la relación es correcta.\n",
    "\n",
    "Una clave es un tipo de campo de coincidencia. Por lo general, las claves contienen valores que se utilizan como ID como, por ejemplo, un ID de producto. Existen dos tipos de claves:\n",
    "\n",
    "* **Clave principal:** un campo que se encuentra en la mismo tabla que el registro que identifica. Un valor de clave principal debe ser exclusivo y no estar vacío (no ser nulo). Solo hay una clave principal en una tabla, pero la clave puede estar formada por varios campos. De forma predeterminada, al crear un archivo o una tabla en el cuadro de diálogo Gestionar base de datos, la nueva tabla contiene el campo de clave principal.\n",
    "\n",
    "\n",
    "* **Clave externa:** un campo de una tabla que identifica un registro de otra tabla. Los valores en claves externas no tienen que ser exclusivos en la tabla y pueden estar vacíos (nulos). Puede haber varias claves externas en una tabla.\n",
    "\n",
    "\n",
    "\n",
    "\n",
    "\n"
   ]
  },
  {
   "cell_type": "markdown",
   "metadata": {},
   "source": [
    "## Tipos de relaciones\n",
    "\n",
    "Las relaciones fomentan la introducción de datos coherentes y aplican reglas en la base de datos. En general se tienen los siguientes tipos de relaciones.\n",
    "\n",
    " \n",
    "\n",
    "### De uno a uno\n",
    "\n",
    "Un registro de una tabla está asociado a uno y solo un registro de otra tabla. Consulte Relaciones de uno a uno.\n",
    "\n",
    "### De uno a muchos, o de muchos a uno\n",
    "\n",
    "Un registro de una tabla puede estar asociado a uno o varios registros de otra tabla. O bien, uno o varios registros de una tabla pueden estar asociados a un registro de otra tabla. Consulte Relaciones de uno a muchos.\n",
    "\n",
    "### De muchos a muchos \n",
    "\n",
    "Por lo general, los sistemas de bases de datos relacionales no permiten implementar una relación directa de muchos a muchos entre dos tablas. Sin embargo, puede diseñar una base de datos que admita relaciones de muchos-a-muchos utilizando una tercera tabla intermedia. \n",
    "\n"
   ]
  }
 ],
 "metadata": {
  "kernelspec": {
   "display_name": "R",
   "language": "R",
   "name": "ir"
  },
  "language_info": {
   "codemirror_mode": "r",
   "file_extension": ".r",
   "mimetype": "text/x-r-source",
   "name": "R",
   "pygments_lexer": "r",
   "version": "3.6.1"
  }
 },
 "nbformat": 4,
 "nbformat_minor": 4
}
